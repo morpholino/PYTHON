{
 "cells": [
  {
   "cell_type": "code",
   "execution_count": 48,
   "metadata": {
    "collapsed": false
   },
   "outputs": [
    {
     "name": "stdout",
     "output_type": "stream",
     "text": [
      "done\n"
     ]
    }
   ],
   "source": [
    "import numpy as np\n",
    "import pandas as pd\n",
    "\n",
    "array = {}\n",
    "\n",
    "with open(\"test_matrix.tsv\") as f:\n",
    "    for l in f:\n",
    "        data = l.strip().split(\"\\t\")\n",
    "        array[data[0]] = [float(x) for x in data[1:]]\n",
    "print(\"done\")"
   ]
  },
  {
   "cell_type": "code",
   "execution_count": 49,
   "metadata": {
    "collapsed": false
   },
   "outputs": [],
   "source": [
    "df = pd.DataFrame(array, index=[\"egg\", \"nymph\", \"fednymph\", \"female\", \"fedfemale\"])\n",
    "X = df.T"
   ]
  },
  {
   "cell_type": "code",
   "execution_count": 78,
   "metadata": {
    "collapsed": false
   },
   "outputs": [
    {
     "name": "stdout",
     "output_type": "stream",
     "text": [
      "             egg  nymph  fednymph  female  fedfemale\n",
      "c11252_g1  1.125  0.820     0.000   0.000      0.176\n",
      "c1147_g1   1.503  0.315     0.303   0.364      0.000\n",
      "c11938_g1  0.698  0.000     0.000   0.000      0.000\n",
      "c13201_g1  0.000  0.000     0.000   0.000      0.000\n",
      "c13658_g1  0.954  0.339     0.317   0.000      0.439\n",
      "c13965_g1  0.684  0.000     0.231   0.000      0.314\n",
      "c14210_g2  0.278  0.599     0.288   1.013      0.000\n",
      "c14430_g1  0.000  0.000     0.764   0.000      0.527\n",
      "c14548_g1  0.000  1.002     0.476   0.000      0.665\n",
      "c15805_g1  0.000  0.000     0.505   0.000      0.000\n"
     ]
    }
   ],
   "source": [
    "print(X.head(10))"
   ]
  },
  {
   "cell_type": "code",
   "execution_count": 57,
   "metadata": {
    "collapsed": false
   },
   "outputs": [],
   "source": [
    "variance = np.var(X, axis=1) #0=x-axis, 1=y-axis\n",
    "variance = np.var(X.loc[:,:\"fedfemale\"], axis=1) #limits calculation to columns defined after the comma"
   ]
  },
  {
   "cell_type": "code",
   "execution_count": 58,
   "metadata": {
    "collapsed": false
   },
   "outputs": [
    {
     "data": {
      "text/plain": [
       "c74383_g1    111292.629630\n",
       "c69884_g1     10617.447681\n",
       "c71961_g1      3537.216150\n",
       "c79422_g2      2104.928520\n",
       "c78306_g2      2057.030670\n",
       "c75336_g1      1981.318144\n",
       "c77855_g2      1397.413924\n",
       "c76790_g1      1371.813444\n",
       "c82451_g2       978.219452\n",
       "c80648_g3       972.972056\n",
       "dtype: float64"
      ]
     },
     "execution_count": 58,
     "metadata": {},
     "output_type": "execute_result"
    }
   ],
   "source": [
    "variance.sort_values(ascending=0, inplace=True)\n",
    "variance.head(10)"
   ]
  },
  {
   "cell_type": "code",
   "execution_count": 77,
   "metadata": {
    "collapsed": false
   },
   "outputs": [
    {
     "data": {
      "text/plain": [
       "c74383_g1    72051.508626\n",
       "c84037_g4    15889.171117\n",
       "c71961_g1     9892.144695\n",
       "c69884_g1     8140.707020\n",
       "c80876_g5     4461.775547\n",
       "c74680_g3     3626.412839\n",
       "c76790_g1     2143.656004\n",
       "c75336_g1     2021.660724\n",
       "c79447_g1     1396.627165\n",
       "c79422_g2     1266.295019\n",
       "dtype: float64"
      ]
     },
     "execution_count": 77,
     "metadata": {},
     "output_type": "execute_result"
    }
   ],
   "source": [
    "limitvariance = np.var(X[X.nymph > 1], axis=1)\n",
    "limitvariance.sort_values(ascending=0, inplace=True)\n",
    "limitvariance.head(10)"
   ]
  },
  {
   "cell_type": "code",
   "execution_count": null,
   "metadata": {
    "collapsed": false
   },
   "outputs": [],
   "source": []
  },
  {
   "cell_type": "code",
   "execution_count": null,
   "metadata": {
    "collapsed": true
   },
   "outputs": [],
   "source": []
  }
 ],
 "metadata": {
  "kernelspec": {
   "display_name": "Python 3",
   "language": "python",
   "name": "python3"
  },
  "language_info": {
   "codemirror_mode": {
    "name": "ipython",
    "version": 3
   },
   "file_extension": ".py",
   "mimetype": "text/x-python",
   "name": "python",
   "nbconvert_exporter": "python",
   "pygments_lexer": "ipython3",
   "version": "3.6.0"
  }
 },
 "nbformat": 4,
 "nbformat_minor": 2
}
