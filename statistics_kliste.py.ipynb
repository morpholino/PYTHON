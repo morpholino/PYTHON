{
 "cells": [
  {
   "cell_type": "code",
   "execution_count": 64,
   "metadata": {
    "collapsed": false
   },
   "outputs": [
    {
     "name": "stdout",
     "output_type": "stream",
     "text": [
      "ignored:#1.3\n",
      "\n",
      "ignored:83534\t5\t6\t2\n",
      "\n",
      "['k_means_15', 'k_means_25', 'k_means_10', 'k_means_20', 'k_means_30', 'k_means_35', 'egg', 'larvae', 'female', 'fednymph', 'fedfemale']\n",
      "ignored:k_means_2\tna\tna\tna\tna\tna\tna\t1.00\t1.00\t1.00\t2.00\t2.00\n",
      "\n",
      "ignored:k_means_3\tna\tna\tna\tna\tna\tna\t1.00\t1.00\t1.00\t2.00\t3.00\n",
      "\n",
      "done\n"
     ]
    }
   ],
   "source": [
    "import numpy as np\n",
    "import pandas as pd\n",
    "import os\n",
    "\n",
    "homedir = \"/Users/zoliq/ownCloud/\"\n",
    "#homedir = \"/Volumes/zoliq data/ownCloud/\"\n",
    "wd = homedir + \"Jankoviny/Tick_transcriptome/klastrovani\"\n",
    "os.chdir(wd)\n",
    "\n",
    "array = {}\n",
    "\n",
    "with open(\"morpheus_kliste_stadia.gct\") as f:\n",
    "    c = 0\n",
    "    for l in f:\n",
    "        if c == 2:\n",
    "            c += 1\n",
    "            indices = l.strip().split(\"\\t\")[1:]\n",
    "            indices = [x.replace(\".RSEM\",\"\") for x in indices]\n",
    "            print(indices)\n",
    "        elif c < 5:\n",
    "            c += 1\n",
    "            print(\"ignored:\" + l)\n",
    "        else:\n",
    "            data = l.strip().split(\"\\t\")\n",
    "            array[data[0]] = [float(x) for x in data[1:]]\n",
    "print(\"done\")"
   ]
  },
  {
   "cell_type": "code",
   "execution_count": 65,
   "metadata": {
    "collapsed": false
   },
   "outputs": [],
   "source": [
    "df = pd.DataFrame(array, index=indices, dtype=np.float64)\n",
    "X = df.T"
   ]
  },
  {
   "cell_type": "code",
   "execution_count": 66,
   "metadata": {
    "collapsed": false,
    "scrolled": true
   },
   "outputs": [
    {
     "name": "stdout",
     "output_type": "stream",
     "text": [
      "           k_means_15  k_means_25  k_means_10  k_means_20  k_means_30  \\\n",
      "c10004_g1         2.0         1.0         3.0         9.0         6.0   \n",
      "c10007_g1         5.0        19.0         1.0        13.0        29.0   \n",
      "c10016_g1         1.0        25.0         4.0        14.0        14.0   \n",
      "c10018_g1         5.0        19.0         1.0        13.0         1.0   \n",
      "c10020_g1         6.0        24.0         7.0        19.0         4.0   \n",
      "c10026_g1         3.0        10.0         1.0        15.0        21.0   \n",
      "c10027_g1         7.0         5.0        10.0         7.0         3.0   \n",
      "c10030_g1         4.0         2.0         1.0         4.0         1.0   \n",
      "c10034_g1         5.0        19.0         1.0        13.0         1.0   \n",
      "c10037_g1        11.0        23.0         2.0         8.0        15.0   \n",
      "\n",
      "           k_means_35   egg  larvae  female  fednymph  fedfemale  \n",
      "c10004_g1         1.0  0.00    2.27    0.36      0.00       0.00  \n",
      "c10007_g1        22.0  2.02    1.07    0.00      0.00       0.00  \n",
      "c10016_g1        12.0  1.00    0.35    1.60      0.00       1.38  \n",
      "c10018_g1        22.0  1.67    0.44    0.00      0.00       0.00  \n",
      "c10020_g1        25.0  0.00    0.00    0.00      0.22       4.16  \n",
      "c10026_g1        24.0  0.21    0.23    0.00      0.22       0.00  \n",
      "c10027_g1         4.0  0.78    0.68    0.76      1.43       0.85  \n",
      "c10030_g1         2.0  2.68    0.31    0.35      0.00       0.40  \n",
      "c10034_g1        34.0  2.36    1.28    1.16      1.17       0.24  \n",
      "c10037_g1        31.0  0.34    0.54    1.42      0.33       0.00  \n"
     ]
    }
   ],
   "source": [
    "print(X.head(10))"
   ]
  },
  {
   "cell_type": "code",
   "execution_count": null,
   "metadata": {
    "collapsed": true
   },
   "outputs": [],
   "source": [
    "# the following is for calculation of all variances"
   ]
  },
  {
   "cell_type": "code",
   "execution_count": 48,
   "metadata": {
    "collapsed": false
   },
   "outputs": [],
   "source": [
    "variance = np.var(X, axis=1) #0=x-axis, 1=y-axis\n",
    "variance = np.var(X.loc[:,\"egg\":], axis=1) #limits calculation to columns defined after the comma"
   ]
  },
  {
   "cell_type": "code",
   "execution_count": 49,
   "metadata": {
    "collapsed": false
   },
   "outputs": [
    {
     "data": {
      "text/plain": [
       "['c81210_g1',\n",
       " 'c56425_g1',\n",
       " 'c80070_g2',\n",
       " 'c69505_g1',\n",
       " 'c79647_g1',\n",
       " 'c77449_g1',\n",
       " 'c72917_g1',\n",
       " 'c74700_g1',\n",
       " 'c75020_g3',\n",
       " 'c80070_g1']"
      ]
     },
     "execution_count": 49,
     "metadata": {},
     "output_type": "execute_result"
    }
   ],
   "source": [
    "sortedvar = variance.sort_values(ascending=0, inplace=False)\n",
    "topthousand = sortedvar.head(1000)\n",
    "list(topthousand.index)[:10] #this is how you extract indices from a np.series"
   ]
  },
  {
   "cell_type": "code",
   "execution_count": 50,
   "metadata": {
    "collapsed": false
   },
   "outputs": [],
   "source": [
    "with open(\"top1000.tsv\",\"w\") as out:\n",
    "    out.write(\"contig\\t{}\\n\".format(\"\\t\".join(indices)))\n",
    "    for seq in list(topthousand.index):\n",
    "        #print(seq, topthousand[seq]) #and this is how you extract the respective values\n",
    "        data = [str(x).replace(\".\",\",\") for x in array[seq]]\n",
    "        data = \"\\t\".join(data)\n",
    "        out.write(\"{}\\t{}\\n\".format(seq, data))"
   ]
  },
  {
   "cell_type": "code",
   "execution_count": null,
   "metadata": {
    "collapsed": true
   },
   "outputs": [],
   "source": [
    "#here I try plotting the top 1000 variable genes:\n"
   ]
  },
  {
   "cell_type": "code",
   "execution_count": null,
   "metadata": {
    "collapsed": true
   },
   "outputs": [],
   "source": [
    "#this section is to calculate per-module sum-of-square/avg.silhouette"
   ]
  },
  {
   "cell_type": "code",
   "execution_count": 73,
   "metadata": {
    "collapsed": false
   },
   "outputs": [
    {
     "name": "stdout",
     "output_type": "stream",
     "text": [
      "k_means_15 15\n",
      "k_means_25 25\n",
      "k_means_10 10\n",
      "k_means_20 20\n",
      "k_means_30 30\n",
      "k_means_35 35\n"
     ]
    }
   ],
   "source": [
    "for kmean in indices[:indices.index(\"egg\")]:\n",
    "    maxmodules = int(kmean.split(\"_\")[-1])\n",
    "    print(kmean, maxmodules)\n",
    "    for i in range(1, maxmodules + 1):\n",
    "        #limitvariance = np.var(X[X.nymph = i], axis=1)\n",
    "        #do some comparison\n",
    "        pass"
   ]
  },
  {
   "cell_type": "code",
   "execution_count": null,
   "metadata": {
    "collapsed": false
   },
   "outputs": [],
   "source": []
  },
  {
   "cell_type": "code",
   "execution_count": null,
   "metadata": {
    "collapsed": true
   },
   "outputs": [],
   "source": []
  }
 ],
 "metadata": {
  "kernelspec": {
   "display_name": "Python 3",
   "language": "python",
   "name": "python3"
  },
  "language_info": {
   "codemirror_mode": {
    "name": "ipython",
    "version": 3
   },
   "file_extension": ".py",
   "mimetype": "text/x-python",
   "name": "python",
   "nbconvert_exporter": "python",
   "pygments_lexer": "ipython3",
   "version": "3.6.0"
  }
 },
 "nbformat": 4,
 "nbformat_minor": 2
}
